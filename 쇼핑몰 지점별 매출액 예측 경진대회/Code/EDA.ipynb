{
 "cells": [
  {
   "cell_type": "markdown",
   "metadata": {},
   "source": [
    "### 데이터 확인"
   ]
  },
  {
   "cell_type": "code",
   "execution_count": 1,
   "metadata": {},
   "outputs": [],
   "source": [
    "import pandas as pd \n",
    "train=pd.read_csv(\"../datasets/train.csv\")\n",
    "test=pd.read_csv(\"../datasets/test.csv\")\n",
    "submission = pd.read_csv(\"../datasets/sample_submission.csv\")"
   ]
  },
  {
   "cell_type": "code",
   "execution_count": 89,
   "metadata": {},
   "outputs": [
    {
     "name": "stdout",
     "output_type": "stream",
     "text": [
      "<class 'pandas.core.frame.DataFrame'>\n",
      "RangeIndex: 6255 entries, 0 to 6254\n",
      "Data columns (total 13 columns):\n",
      " #   Column        Non-Null Count  Dtype  \n",
      "---  ------        --------------  -----  \n",
      " 0   id            6255 non-null   int64  \n",
      " 1   Store         6255 non-null   int64  \n",
      " 2   Date          6255 non-null   object \n",
      " 3   Temperature   6255 non-null   float64\n",
      " 4   Fuel_Price    6255 non-null   float64\n",
      " 5   Promotion1    2102 non-null   float64\n",
      " 6   Promotion2    1592 non-null   float64\n",
      " 7   Promotion3    1885 non-null   float64\n",
      " 8   Promotion4    1819 non-null   float64\n",
      " 9   Promotion5    2115 non-null   float64\n",
      " 10  Unemployment  6255 non-null   float64\n",
      " 11  IsHoliday     6255 non-null   bool   \n",
      " 12  Weekly_Sales  6255 non-null   float64\n",
      "dtypes: bool(1), float64(9), int64(2), object(1)\n",
      "memory usage: 592.6+ KB\n"
     ]
    }
   ],
   "source": [
    "train.info()"
   ]
  },
  {
   "cell_type": "code",
   "execution_count": 90,
   "metadata": {},
   "outputs": [
    {
     "name": "stdout",
     "output_type": "stream",
     "text": [
      "<class 'pandas.core.frame.DataFrame'>\n",
      "RangeIndex: 180 entries, 0 to 179\n",
      "Data columns (total 12 columns):\n",
      " #   Column        Non-Null Count  Dtype  \n",
      "---  ------        --------------  -----  \n",
      " 0   id            180 non-null    int64  \n",
      " 1   Store         180 non-null    int64  \n",
      " 2   Date          180 non-null    object \n",
      " 3   Temperature   180 non-null    float64\n",
      " 4   Fuel_Price    180 non-null    float64\n",
      " 5   Promotion1    178 non-null    float64\n",
      " 6   Promotion2    45 non-null     float64\n",
      " 7   Promotion3    161 non-null    float64\n",
      " 8   Promotion4    146 non-null    float64\n",
      " 9   Promotion5    180 non-null    float64\n",
      " 10  Unemployment  180 non-null    float64\n",
      " 11  IsHoliday     180 non-null    bool   \n",
      "dtypes: bool(1), float64(8), int64(2), object(1)\n",
      "memory usage: 15.8+ KB\n"
     ]
    }
   ],
   "source": [
    "test.info()"
   ]
  },
  {
   "cell_type": "code",
   "execution_count": 91,
   "metadata": {},
   "outputs": [
    {
     "data": {
      "text/plain": [
       "id                 0\n",
       "Store              0\n",
       "Date               0\n",
       "Temperature        0\n",
       "Fuel_Price         0\n",
       "Promotion1      4153\n",
       "Promotion2      4663\n",
       "Promotion3      4370\n",
       "Promotion4      4436\n",
       "Promotion5      4140\n",
       "Unemployment       0\n",
       "IsHoliday          0\n",
       "Weekly_Sales       0\n",
       "dtype: int64"
      ]
     },
     "execution_count": 91,
     "metadata": {},
     "output_type": "execute_result"
    }
   ],
   "source": [
    "train.isnull().sum()"
   ]
  },
  {
   "cell_type": "code",
   "execution_count": 92,
   "metadata": {},
   "outputs": [
    {
     "data": {
      "text/plain": [
       "id                0\n",
       "Store             0\n",
       "Date              0\n",
       "Temperature       0\n",
       "Fuel_Price        0\n",
       "Promotion1        2\n",
       "Promotion2      135\n",
       "Promotion3       19\n",
       "Promotion4       34\n",
       "Promotion5        0\n",
       "Unemployment      0\n",
       "IsHoliday         0\n",
       "dtype: int64"
      ]
     },
     "execution_count": 92,
     "metadata": {},
     "output_type": "execute_result"
    }
   ],
   "source": [
    "test.isnull().sum()"
   ]
  },
  {
   "cell_type": "markdown",
   "metadata": {},
   "source": [
    "### 결측치 0으로 대체"
   ]
  },
  {
   "cell_type": "code",
   "execution_count": 2,
   "metadata": {},
   "outputs": [],
   "source": [
    "train.fillna(method=\"bfill\", inplace=True)\n",
    "test.fillna(method=\"bfill\", inplace=True)\n"
   ]
  },
  {
   "cell_type": "code",
   "execution_count": 4,
   "metadata": {},
   "outputs": [
    {
     "data": {
      "text/plain": [
       "id              0\n",
       "Store           0\n",
       "Date            0\n",
       "Temperature     0\n",
       "Fuel_Price      0\n",
       "Promotion1      0\n",
       "Promotion2      0\n",
       "Promotion3      0\n",
       "Promotion4      0\n",
       "Promotion5      0\n",
       "Unemployment    0\n",
       "IsHoliday       0\n",
       "dtype: int64"
      ]
     },
     "execution_count": 4,
     "metadata": {},
     "output_type": "execute_result"
    }
   ],
   "source": [
    "test.isnull().sum()"
   ]
  },
  {
   "cell_type": "markdown",
   "metadata": {},
   "source": [
    "### Date로 부터 월 추출"
   ]
  },
  {
   "cell_type": "code",
   "execution_count": 5,
   "metadata": {},
   "outputs": [],
   "source": [
    "train[\"Date\"]=train[\"Date\"].astype(str)\n",
    "train[\"month\"]=pd.DatetimeIndex(train[\"Date\"]).month\n",
    "test[\"Date\"]=test[\"Date\"].astype(str)\n",
    "test[\"month\"]=pd.DatetimeIndex(test[\"Date\"]).month"
   ]
  },
  {
   "cell_type": "markdown",
   "metadata": {},
   "source": [
    "### holiday 1과 0으로 바꾸기"
   ]
  },
  {
   "cell_type": "code",
   "execution_count": 6,
   "metadata": {},
   "outputs": [],
   "source": [
    "def holiday_to_number(isholiday):\n",
    "    if isholiday == True:\n",
    "        number = 1\n",
    "    else:\n",
    "        number = 0\n",
    "    return number\n",
    "\n",
    "# 이 함수를 IsHoliday 칼럼에 적용한 NumberHoliday 칼럼을 만들어줍니다.\n",
    "train['IsHoliday'] = train['IsHoliday'].apply(holiday_to_number)\n",
    "test['IsHoliday'] = test['IsHoliday'].apply(holiday_to_number)"
   ]
  },
  {
   "cell_type": "markdown",
   "metadata": {},
   "source": [
    "### y_train 생성 및 필요없는 열 제거"
   ]
  },
  {
   "cell_type": "code",
   "execution_count": 7,
   "metadata": {},
   "outputs": [],
   "source": [
    "y_train=train.Weekly_Sales\n",
    "train.drop([\"id\", \"Date\",\"Weekly_Sales\",\"Fuel_Price\", \"Promotion4\"], axis=1, inplace=True)\n",
    "test.drop([\"id\",\"Date\",\"Fuel_Price\", \"Promotion4\"], axis=1, inplace=True)"
   ]
  },
  {
   "cell_type": "markdown",
   "metadata": {},
   "source": [
    "### 상관분석"
   ]
  },
  {
   "cell_type": "code",
   "execution_count": 8,
   "metadata": {},
   "outputs": [
    {
     "data": {
      "text/plain": [
       "<AxesSubplot:>"
      ]
     },
     "execution_count": 8,
     "metadata": {},
     "output_type": "execute_result"
    },
    {
     "data": {
      "image/png": "[encoded data removed]",
      "text/plain": [
       "<Figure size 720x720 with 2 Axes>"
      ]
     },
     "metadata": {
      "needs_background": "light"
     },
     "output_type": "display_data"
    }
   ],
   "source": [
    "import matplotlib.pyplot as plt \n",
    "import seaborn as sns\n",
    "plt.figure(figsize=(10,10))\n",
    "sns.heatmap(data = train.corr(), annot=True, \n",
    "fmt = '.2f', linewidths=.5, cmap='Blues')"
   ]
  },
  {
   "cell_type": "markdown",
   "metadata": {},
   "source": [
    "### 샤피로 윌크 정규성 검정"
   ]
  },
  {
   "cell_type": "code",
   "execution_count": 9,
   "metadata": {},
   "outputs": [
    {
     "name": "stdout",
     "output_type": "stream",
     "text": [
      "ShapiroResult(statistic=0.9536989331245422, pvalue=1.3302246062142623e-40)\n",
      "ShapiroResult(statistic=0.9793635606765747, pvalue=3.394245693219697e-29)\n",
      "ShapiroResult(statistic=0.8700075745582581, pvalue=0.0)\n",
      "ShapiroResult(statistic=0.7385878562927246, pvalue=0.0)\n",
      "ShapiroResult(statistic=0.0704120397567749, pvalue=0.0)\n",
      "ShapiroResult(statistic=0.5737245082855225, pvalue=0.0)\n",
      "ShapiroResult(statistic=0.8989707231521606, pvalue=0.0)\n",
      "ShapiroResult(statistic=0.281571626663208, pvalue=0.0)\n",
      "ShapiroResult(statistic=0.9505323767662048, pvalue=1.267754720674662e-41)\n"
     ]
    },
    {
     "name": "stderr",
     "output_type": "stream",
     "text": [
      "C:\\ProgramData\\Anaconda3\\lib\\site-packages\\scipy\\stats\\_morestats.py:1761: UserWarning: p-value may not be accurate for N > 5000.\n",
      "  warnings.warn(\"p-value may not be accurate for N > 5000.\")\n"
     ]
    }
   ],
   "source": [
    "from scipy import stats\n",
    "dff=train.columns\n",
    "for i in dff:   \n",
    "    train[i]=train[i].astype(float) \n",
    "    print(stats.shapiro(train[i]))"
   ]
  },
  {
   "cell_type": "markdown",
   "metadata": {},
   "source": [
    "### 다중공선성 VIF 확인"
   ]
  },
  {
   "cell_type": "code",
   "execution_count": 10,
   "metadata": {},
   "outputs": [
    {
     "data": {
      "text/html": [
       "<div>\n",
       "<style scoped>\n",
       "    .dataframe tbody tr th:only-of-type {\n",
       "        vertical-align: middle;\n",
       "    }\n",
       "\n",
       "    .dataframe tbody tr th {\n",
       "        vertical-align: top;\n",
       "    }\n",
       "\n",
       "    .dataframe thead th {\n",
       "        text-align: right;\n",
       "    }\n",
       "</style>\n",
       "<table border=\"1\" class=\"dataframe\">\n",
       "  <thead>\n",
       "    <tr style=\"text-align: right;\">\n",
       "      <th></th>\n",
       "      <th>VIF Factor</th>\n",
       "      <th>features</th>\n",
       "    </tr>\n",
       "  </thead>\n",
       "  <tbody>\n",
       "    <tr>\n",
       "      <th>0</th>\n",
       "      <td>4.322697</td>\n",
       "      <td>Store</td>\n",
       "    </tr>\n",
       "    <tr>\n",
       "      <th>1</th>\n",
       "      <td>9.598641</td>\n",
       "      <td>Temperature</td>\n",
       "    </tr>\n",
       "    <tr>\n",
       "      <th>2</th>\n",
       "      <td>2.656546</td>\n",
       "      <td>Promotion1</td>\n",
       "    </tr>\n",
       "    <tr>\n",
       "      <th>3</th>\n",
       "      <td>1.933528</td>\n",
       "      <td>Promotion2</td>\n",
       "    </tr>\n",
       "    <tr>\n",
       "      <th>4</th>\n",
       "      <td>1.090397</td>\n",
       "      <td>Promotion3</td>\n",
       "    </tr>\n",
       "    <tr>\n",
       "      <th>5</th>\n",
       "      <td>2.050122</td>\n",
       "      <td>Promotion5</td>\n",
       "    </tr>\n",
       "    <tr>\n",
       "      <th>6</th>\n",
       "      <td>13.891071</td>\n",
       "      <td>Unemployment</td>\n",
       "    </tr>\n",
       "    <tr>\n",
       "      <th>7</th>\n",
       "      <td>1.350348</td>\n",
       "      <td>IsHoliday</td>\n",
       "    </tr>\n",
       "    <tr>\n",
       "      <th>8</th>\n",
       "      <td>5.110475</td>\n",
       "      <td>month</td>\n",
       "    </tr>\n",
       "  </tbody>\n",
       "</table>\n",
       "</div>"
      ],
      "text/plain": [
       "   VIF Factor      features\n",
       "0    4.322697         Store\n",
       "1    9.598641   Temperature\n",
       "2    2.656546    Promotion1\n",
       "3    1.933528    Promotion2\n",
       "4    1.090397    Promotion3\n",
       "5    2.050122    Promotion5\n",
       "6   13.891071  Unemployment\n",
       "7    1.350348     IsHoliday\n",
       "8    5.110475         month"
      ]
     },
     "execution_count": 10,
     "metadata": {},
     "output_type": "execute_result"
    }
   ],
   "source": [
    "from statsmodels.stats.outliers_influence import variance_inflation_factor\n",
    "\n",
    "vif = pd.DataFrame()\n",
    "vif[\"VIF Factor\"] = [variance_inflation_factor(\n",
    "    train.values, i) for i in range(train.shape[1])]\n",
    "vif[\"features\"] = train.columns\n",
    "vif"
   ]
  },
  {
   "cell_type": "code",
   "execution_count": 14,
   "metadata": {},
   "outputs": [
    {
     "name": "stdout",
     "output_type": "stream",
     "text": [
      "0.9977481947816091\n"
     ]
    }
   ],
   "source": [
    "\n",
    "import pandas as pd\n",
    "# train = pd.read_csv(\"./data/t2-2-train.csv\")\n",
    "# test= pd.read_csv(\"./data/t2-2-test.csv\")\n",
    "# y_train = pd.read_csv(\"./data/t2-2-y_train.csv\")\n",
    "\n",
    "\n",
    "import numpy as np\n",
    "from sklearn.preprocessing import LabelEncoder, MinMaxScaler, StandardScaler\n",
    "from sklearn.model_selection import train_test_split\n",
    "from sklearn.ensemble import RandomForestClassifier, RandomForestRegressor\n",
    "from sklearn.linear_model import LinearRegression, LogisticRegression\n",
    "from sklearn.tree import DecisionTreeRegressor\n",
    "from sklearn.metrics import accuracy_score, r2_score, mean_squared_error, confusion_matrix, mean_absolute_error\n",
    "\n",
    "\n",
    "\n",
    "cols=train.columns\n",
    "\n",
    "st= StandardScaler()\n",
    "st.fit(train)\n",
    "train_st=st.transform(train)\n",
    "\n",
    "st.fit(test)\n",
    "test_st=st.transform(test)\n",
    "\n",
    "train=pd.DataFrame(train_st,columns=cols)\n",
    "test=pd.DataFrame(test_st, columns=cols)\n",
    "\n",
    "X_tr,X_val, y_tr, y_val = train_test_split(train,y_train, test_size=0.2, random_state=2022)\n",
    "\n",
    "# print(train.shape)\n",
    "# print(test.shape)\n",
    "\n",
    "# rf = RandomForestRegressor(n_estimators=500, max_depth=10, random_state=2022)\n",
    "# rf.fit(X_tr,y_tr)\n",
    "# pred=rf.predict(X_val)\n",
    "# print(r2_score(y_val,pred))\n",
    "\n",
    "# y_pred=rf.predict(test)\n",
    "\n",
    "\n",
    "# DecisionTreeRegressor\n",
    "# dc = DecisionTreeRegressor(max_depth=10, random_state=2022)\n",
    "# dc.fit(X_tr, y_tr)\n",
    "# pred=dc.predict(X_val)\n",
    "# print(r2_score(y_val, pred))\n",
    "\n",
    "\n",
    "import xgboost as xgb\n",
    "from sklearn.metrics import r2_score\n",
    "xgb_model = xgb.XGBRegressor(n_estimators=300, max_depth=10, learning_rate=0.05, n_jobs=-1)\n",
    "xgb_model.fit(train, y_train, eval_set = [(X_val, y_val)], early_stopping_rounds=30, verbose=0)\n",
    "pred=xgb_model.predict(X_val)\n",
    "print(r2_score(y_val, pred))\n",
    "ids=submission.id\n",
    "\n",
    "# submissions_01 = pd.DataFrame({\"id\":ids,\"Weekly_Sales\":pred})\n",
    "# submissions_01.to_csv(\"submission_03.csv\", index=False)"
   ]
  }
 ],
 "metadata": {
  "interpreter": {
   "hash": "b3ba2566441a7c06988d0923437866b63cedc61552a5af99d1f4fb67d367b25f"
  },
  "kernelspec": {
   "display_name": "Python 3.9.7 ('base')",
   "language": "python",
   "name": "python3"
  },
  "language_info": {
   "codemirror_mode": {
    "name": "ipython",
    "version": 3
   },
   "file_extension": ".py",
   "mimetype": "text/x-python",
   "name": "python",
   "nbconvert_exporter": "python",
   "pygments_lexer": "ipython3",
   "version": "3.9.7"
  },
  "orig_nbformat": 4
 },
 "nbformat": 4,
 "nbformat_minor": 2
}
